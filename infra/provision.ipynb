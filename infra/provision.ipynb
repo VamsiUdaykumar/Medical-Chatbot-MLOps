{
 "cells": [
  {
   "cell_type": "code",
   "execution_count": null,
   "id": "fb21b71e",
   "metadata": {
    "vscode": {
     "languageId": "plaintext"
    }
   },
   "outputs": [],
   "source": [
    "# Cell 1: Install chi package (in Jupyter)\n",
    "!pip install python-chi --quiet\n",
    "\n",
    "# Cell 2: Import and configure\n",
    "from chi import server, context\n",
    "import os\n",
    "\n",
    "# Set your project and site\n",
    "context.choose_project(\"your-project-name\")   # Replace with actual Chameleon project name (e.g. mlops-project17)\n",
    "context.choose_site(\"CHI@UC\")\n",
    "\n",
    "# Cell 3: Provision a VM\n",
    "s = server.Server(\n",
    "    name=\"dr-dialog-vm\",\n",
    "    image_name=\"CC-Ubuntu20.04\",\n",
    "    flavor_name=\"m1.medium\",\n",
    "    key_name=\"your-keypair-name\"  # e.g., mlops-key\n",
    ")\n",
    "\n",
    "s.submit(idempotent=True)\n",
    "\n",
    "# Cell 4: Associate a floating IP\n",
    "s.associate_floating_ip()\n",
    "s.refresh()\n",
    "print(f\"Access your instance: ssh cc@{s.floating_ip}\")\n"
   ]
  }
 ],
 "metadata": {
  "language_info": {
   "name": "python"
  }
 },
 "nbformat": 4,
 "nbformat_minor": 5
}

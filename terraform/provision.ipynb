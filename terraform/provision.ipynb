{
 "cells": [
  {
   "cell_type": "code",
   "execution_count": null,
   "id": "646d322a-c636-44d0-8f8b-8e87ae50f340",
   "metadata": {
    "tags": []
   },
   "outputs": [],
   "source": [
    "mkdir -p /work/.local/bin\n",
    "wget https://releases.hashicorp.com/terraform/1.10.5/terraform_1.10.5_linux_amd64.zip\n",
    "unzip -o -q terraform_1.10.5_linux_amd64.zip\n",
    "mv terraform /work/.local/bin\n",
    "rm terraform_1.10.5_linux_amd64.zip"
   ]
  },
  {
   "cell_type": "code",
   "execution_count": null,
   "id": "14213036-78ad-4ddc-9a75-26112269e15c",
   "metadata": {
    "tags": []
   },
   "outputs": [],
   "source": [
    "export PATH=/work/.local/bin:$PATH\n"
   ]
  },
  {
   "cell_type": "code",
   "execution_count": null,
   "id": "ea5a93fc-07fb-4ad4-9e2c-9a35421b44c5",
   "metadata": {
    "tags": []
   },
   "outputs": [],
   "source": [
    "terraform\n"
   ]
  },
  {
   "cell_type": "code",
   "execution_count": null,
   "id": "dd2e524b-c11a-4f36-b32f-e1bc81ba3c7b",
   "metadata": {
    "tags": []
   },
   "outputs": [],
   "source": [
    "PYTHONUSERBASE=/work/.local pip install --user ansible-core==2.16.9 ansible==9.8.0\n"
   ]
  },
  {
   "cell_type": "code",
   "execution_count": null,
   "id": "ea36dd5d-5e3d-433c-93ee-6cc1434f41b4",
   "metadata": {
    "tags": []
   },
   "outputs": [],
   "source": [
    "export PATH=/work/.local/bin:$PATH\n",
    "export PYTHONUSERBASE=/work/.local"
   ]
  },
  {
   "cell_type": "code",
   "execution_count": null,
   "id": "b33904f6-3cb0-477e-80b0-6da678a85d95",
   "metadata": {
    "tags": []
   },
   "outputs": [],
   "source": [
    "ansible-playbook --help\n"
   ]
  },
  {
   "cell_type": "code",
   "execution_count": null,
   "id": "6258e51c-29b3-4b06-9d16-401a14b0f106",
   "metadata": {
    "tags": []
   },
   "outputs": [],
   "source": [
    "unset $(set | grep -o \"^OS_[A-Za-z0-9_]*\")\n"
   ]
  },
  {
   "cell_type": "code",
   "execution_count": null,
   "id": "7682b4a7-fda1-44b3-a498-20a1132f0712",
   "metadata": {
    "tags": []
   },
   "outputs": [],
   "source": [
    "pwd"
   ]
  },
  {
   "cell_type": "code",
   "execution_count": null,
   "id": "817a2f2b-c706-4144-a6e6-98f9eab262e1",
   "metadata": {
    "tags": []
   },
   "outputs": [],
   "source": [
    "terraform init\n"
   ]
  },
  {
   "cell_type": "code",
   "execution_count": null,
   "id": "934e9054-c6b2-40f6-b493-2710b4c7debc",
   "metadata": {
    "tags": []
   },
   "outputs": [],
   "source": [
    "export TF_VAR_suffix=vj2280\n",
    "export TF_VAR_key=id_rsa_chameleon"
   ]
  },
  {
   "cell_type": "code",
   "execution_count": null,
   "id": "caca6e38-dae9-4687-acc8-e2cacb915049",
   "metadata": {
    "tags": []
   },
   "outputs": [],
   "source": [
    "terraform validate\n"
   ]
  },
  {
   "cell_type": "code",
   "execution_count": null,
   "id": "09dfbad1-16f0-411e-9e86-7b52cd24f7a8",
   "metadata": {
    "tags": []
   },
   "outputs": [],
   "source": [
    "terraform plan\n"
   ]
  },
  {
   "cell_type": "code",
   "execution_count": null,
   "id": "ce5675de-909a-4643-a329-a097eca6abc0",
   "metadata": {
    "tags": []
   },
   "outputs": [],
   "source": [
    "terraform apply -auto-approve\n"
   ]
  },
  {
   "cell_type": "code",
   "execution_count": null,
   "id": "118dd3de-948e-4e0f-9bc5-ed07ef1917ee",
   "metadata": {},
   "outputs": [],
   "source": []
  }
 ],
 "metadata": {
  "kernelspec": {
   "display_name": "Bash",
   "language": "bash",
   "name": "bash"
  },
  "language_info": {
   "codemirror_mode": "shell",
   "file_extension": ".sh",
   "mimetype": "text/x-sh",
   "name": "bash"
  }
 },
 "nbformat": 4,
 "nbformat_minor": 5
}

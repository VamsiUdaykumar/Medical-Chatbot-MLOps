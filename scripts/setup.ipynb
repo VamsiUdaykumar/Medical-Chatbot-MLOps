{
 "cells": [
  {
   "cell_type": "code",
   "execution_count": null,
   "id": "a53755fc",
   "metadata": {},
   "outputs": [],
   "source": [
    "from chi import server, context, lease\n",
    "import os\n",
    "\n",
    "context.version = \"1.0\" \n",
    "context.choose_project()\n",
    "context.choose_site(default=\"CHI@TACC\")"
   ]
  },
  {
   "cell_type": "code",
   "execution_count": null,
   "id": "0e377922",
   "metadata": {},
   "outputs": [],
   "source": [
    "l = lease.get_lease(f\"\") \n",
    "l.show()"
   ]
  },
  {
   "cell_type": "code",
   "execution_count": null,
   "id": "c1e4b7cb",
   "metadata": {},
   "outputs": [],
   "source": [
    "username = os.getenv('USER') # all exp resources will have this prefix\n",
    "s = server.Server(\n",
    "    f\"node-mltrain-{username}\", \n",
    "    reservation_id=l.node_reservations[0][\"id\"],\n",
    "    image_name=\"CC-Ubuntu24.04-CUDA\"\n",
    ")\n",
    "s.submit(idempotent=True)"
   ]
  },
  {
   "cell_type": "code",
   "execution_count": null,
   "id": "9a73d67a",
   "metadata": {},
   "outputs": [],
   "source": [
    "s.associate_floating_ip()"
   ]
  },
  {
   "cell_type": "code",
   "execution_count": null,
   "id": "928ea525",
   "metadata": {},
   "outputs": [],
   "source": [
    "s.refresh()\n",
    "s.check_connectivity()"
   ]
  },
  {
   "cell_type": "code",
   "execution_count": null,
   "id": "30865277",
   "metadata": {},
   "outputs": [],
   "source": [
    "s.refresh()\n",
    "s.show(type=\"widget\")"
   ]
  },
  {
   "cell_type": "code",
   "execution_count": null,
   "id": "263f1568",
   "metadata": {},
   "outputs": [],
   "source": [
    "s.execute(\"curl -sSL https://get.docker.com/ | sudo sh\")\n",
    "s.execute(\"sudo groupadd -f docker; sudo usermod -aG docker $USER\")\n",
    "s.execute(\"docker run hello-world\")"
   ]
  },
  {
   "cell_type": "code",
   "execution_count": null,
   "id": "5f58f2f0",
   "metadata": {},
   "outputs": [],
   "source": [
    "s.execute(\"curl -fsSL https://nvidia.github.io/libnvidia-container/gpgkey | sudo gpg --dearmor -o /usr/share/keyrings/nvidia-container-toolkit-keyring.gpg \\\n",
    "  && curl -s -L https://nvidia.github.io/libnvidia-container/stable/deb/nvidia-container-toolkit.list | \\\n",
    "    sed 's#deb https://#deb [signed-by=/usr/share/keyrings/nvidia-container-toolkit-keyring.gpg] https://#g' | \\\n",
    "    sudo tee /etc/apt/sources.list.d/nvidia-container-toolkit.list\")\n",
    "s.execute(\"sudo apt update\")\n",
    "s.execute(\"sudo apt-get install -y nvidia-container-toolkit\")\n",
    "s.execute(\"sudo nvidia-ctk runtime configure --runtime=docker\")\n",
    "# for https://github.com/NVIDIA/nvidia-container-toolkit/issues/48\n",
    "s.execute(\"sudo jq 'if has(\\\"exec-opts\\\") then . else . + {\\\"exec-opts\\\": [\\\"native.cgroupdriver=cgroupfs\\\"]} end' /etc/docker/daemon.json | sudo tee /etc/docker/daemon.json.tmp > /dev/null && sudo mv /etc/docker/daemon.json.tmp /etc/docker/daemon.json\")\n",
    "s.execute(\"sudo systemctl restart docker\")"
   ]
  },
  {
   "cell_type": "code",
   "execution_count": null,
   "id": "82b54be7",
   "metadata": {},
   "outputs": [],
   "source": [
    "s.execute(\"docker run --rm --gpus all ubuntu nvidia-smi\")"
   ]
  },
  {
   "cell_type": "code",
   "execution_count": null,
   "id": "61832c34",
   "metadata": {},
   "outputs": [],
   "source": [
    "s.execute(\"sudo apt update\")\n",
    "s.execute(\"sudo apt -y install nvtop\")"
   ]
  },
  {
   "cell_type": "code",
   "execution_count": null,
   "id": "01866156",
   "metadata": {},
   "outputs": [],
   "source": [
    "s.execute(\"git clone https://github.com/RaghuHemadri/mlops_test_raghu.git\")"
   ]
  },
  {
   "cell_type": "code",
   "execution_count": null,
   "id": "a1e9a186",
   "metadata": {},
   "outputs": [],
   "source": [
    "s.execute(\"export YOUR_USER_ID='d25b59d03a410639b308fc4180ae27bbdcb3eaafc746715255092b23166344ae'; export APP_CRED_ID='b927f3996058472a81c13c5f2f34d2e7'; export APP_CRED_SECRET='GiGd8lzNvcJ-m7qeZCU-5oQqDZtyhNrlMtlLdmGU07WRe76AxPDyglTj_ZKpS9P6csx3HSnDLFPQMP307QJxuw'; cd mlops_test_raghu; bash run_etl.sh\")"
   ]
  },
  {
   "cell_type": "code",
   "execution_count": null,
   "id": "7bf553f1",
   "metadata": {},
   "outputs": [],
   "source": [
    "s.execute(\"export HOST_IP=$(curl --silent http://169.254.169.254/latest/meta-data/public-ipv4); cd mlops_test_raghu; docker compose -f docker-compose-ray.yaml up --build -d\")\n",
    "s.execute(\"docker ps\")"
   ]
  },
  {
   "cell_type": "code",
   "execution_count": null,
   "id": "49aed0a0",
   "metadata": {},
   "outputs": [],
   "source": [
    "s.execute(\"cd mlops_test_raghu; sudo cp train_ray.py workspace/train_ray.py; sudo cp ray_requirements.txt workspace/ray_requirements.txt; sudo cp ray_runtime.json workspace/ray_runtime.json\")"
   ]
  },
  {
   "cell_type": "code",
   "execution_count": null,
   "id": "72ec5735",
   "metadata": {},
   "outputs": [],
   "source": [
    "s.execute(\"docker logs jupyter-ray\")"
   ]
  }
 ],
 "metadata": {
  "kernelspec": {
   "display_name": "eda_llm",
   "language": "python",
   "name": "python3"
  },
  "language_info": {
   "name": "python",
   "version": "3.11.5"
  }
 },
 "nbformat": 4,
 "nbformat_minor": 5
}
